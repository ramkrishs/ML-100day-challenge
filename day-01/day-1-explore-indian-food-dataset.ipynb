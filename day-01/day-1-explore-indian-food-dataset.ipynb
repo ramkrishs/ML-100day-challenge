{
 "cells": [
  {
   "cell_type": "markdown",
   "id": "a53c50c8",
   "metadata": {},
   "source": [
    "\n",
    "# Day 1: Project Kickoff & Dataset Exploration  \n",
    "_A 100-Day Machine-Learning Challenge: Indian Food Recipes_\n",
    "\n",
    "**Author:** Ramakrishnan Sathyavageeswaran\n",
    "\n",
    "**Date:** June 29, 2025  \n",
    "\n"
   ]
  },
  {
   "cell_type": "markdown",
   "id": "eb7d32cd",
   "metadata": {},
   "source": [
    "## Project Overview\n",
    "This notebook explores Indian food datasets as part of my 100-day machine learning challenge. The goal is to understand the structure and content of different Indian food datasets and prepare them for future analysis and modeling.\n",
    "\n",
    "### Datasets Used\n",
    "- `cuisines.csv`: A comprehensive dataset of Indian recipes with detailed information\n",
    "- `ifood_new.csv`: A curated dataset of Indian foods with regional information\n",
    "- `indian_food.csv`: Another dataset with Indian food information\n",
    "- `indian_food_dataset.csv`: A dataset with Indian food information\n",
    "\n",
    "### Download from Kaggle\n",
    "```\n",
    "kaggle datasets download -d kritirathi/indian-food-dataset-with -p data/kritirathi\n",
    "kaggle datasets download -d sukhmandeepsinghbrar/indian-food-dataset -p data/sukhmandeepsingh\n",
    "kaggle datasets download -d kishanpahadiya/indian-food-and-its-recipes-dataset-with-images -p data/kishan\n",
    "kaggle datasets download -d nehaprabhavalkar/indian-food-101 -p data/food101\n",
    "```\n",
    "\n",
    "Note: The datasets are downloaded to the `data/` directory and make sure you have kaggle installed and authenticated.\n",
    "\n",
    "### Objectives\n",
    "- Explore and understand the structure of each dataset\n",
    "- Clean and preprocess the data\n",
    "- Perform initial exploratory data analysis\n",
    "- Identify potential features for future analysis"
   ]
  },
  {
   "cell_type": "markdown",
   "id": "cc7120d7",
   "metadata": {},
   "source": [
    "### Helper Functions to quick view the data"
   ]
  },
  {
   "cell_type": "code",
   "execution_count": 15,
   "id": "1e687d5e",
   "metadata": {},
   "outputs": [],
   "source": [
    "def quick_view(file_path, sample_rows=5, show_info=True, show_stats=True, \n",
    "              show_missing=True, show_unique=5):\n",
    "    \"\"\"\n",
    "    Display a comprehensive overview of a CSV file.\n",
    "    \n",
    "    Parameters:\n",
    "    -----------\n",
    "    file_path : str\n",
    "        Path to the CSV file (can be relative or absolute)\n",
    "    sample_rows : int, optional (default=5)\n",
    "        Number of sample rows to display\n",
    "    show_info : bool, optional (default=True)\n",
    "        Whether to show DataFrame info\n",
    "    show_stats : bool, optional (default=True)\n",
    "        Whether to show basic statistics\n",
    "    show_missing : bool, optional (default=True)\n",
    "        Whether to show missing values info\n",
    "    show_unique : int, optional (default=5)\n",
    "        Number of unique values to show per column (0 to disable)\n",
    "    \"\"\"\n",
    "    import os\n",
    "    import pandas as pd\n",
    "    from IPython.display import display, Markdown\n",
    "    import time\n",
    "    \n",
    "    start_time = time.time()\n",
    "    \n",
    "    try:\n",
    "        # Convert to absolute path and normalize\n",
    "        abs_path = os.path.abspath(file_path)\n",
    "        \n",
    "        # Check if file exists\n",
    "        if not os.path.exists(abs_path):\n",
    "            display(Markdown(\"## Error: File not found\"))\n",
    "            display(f\"Looking for: {abs_path}\")\n",
    "            display(\"\\nCurrent working directory:\", os.getcwd())\n",
    "            display(\"\\nAvailable files in current directory:\")\n",
    "            display(os.listdir('.'))\n",
    "            return None\n",
    "            \n",
    "        # Read the CSV file\n",
    "        display(Markdown(f\"*Loading file {os.path.basename(abs_path)}...*\"))\n",
    "        df = pd.read_csv(abs_path)\n",
    "        \n",
    "        # Display file info\n",
    "        display(Markdown(f\"## File: `{os.path.basename(abs_path)}`\"))\n",
    "        display(Markdown(f\"### Shape: {df.shape[0]:,} rows × {df.shape[1]:,} columns\"))\n",
    "        display(Markdown(f\"### Full path: `{abs_path}`\\n\"))\n",
    "        \n",
    "        # Rest of the function remains the same...\n",
    "        \n",
    "        # Add execution time at the end\n",
    "        end_time = time.time()\n",
    "        display(Markdown(f\"*Analysis completed in {end_time - start_time:.2f} seconds*\"))\n",
    "        \n",
    "        return df\n",
    "    \n",
    "    except Exception as e:\n",
    "        display(Markdown(\"## An error occurred\"))\n",
    "        display(f\"Error: {str(e)}\")\n",
    "        return None"
   ]
  },
  {
   "cell_type": "markdown",
   "id": "ac15ec43",
   "metadata": {},
   "source": [
    "## Dataset 1: Cuisines Dataset Exploration\n",
    "Let's first examine the structure and content of the cuisines.csv dataset."
   ]
  },
  {
   "cell_type": "markdown",
   "id": "5efa6c79",
   "metadata": {},
   "source": [
    "### Key Observations from Cuisines Dataset\n",
    "- The dataset contains 4,236 recipes with 9 columns\n",
    "- Most recipes are categorized as vegetarian (X%)\n",
    "- The dataset includes detailed ingredients and instructions\n",
    "- There are minimal missing values, primarily in cuisine (0.14%), course (0.9%), and diet (0.87%) columns"
   ]
  },
  {
   "cell_type": "code",
   "execution_count": 16,
   "id": "2cbd546c",
   "metadata": {},
   "outputs": [
    {
     "data": {
      "text/markdown": [
       "*Loading file cuisines.csv...*"
      ],
      "text/plain": [
       "<IPython.core.display.Markdown object>"
      ]
     },
     "metadata": {},
     "output_type": "display_data"
    },
    {
     "data": {
      "text/markdown": [
       "## File: `cuisines.csv`"
      ],
      "text/plain": [
       "<IPython.core.display.Markdown object>"
      ]
     },
     "metadata": {},
     "output_type": "display_data"
    },
    {
     "data": {
      "text/markdown": [
       "### Shape: 4,236 rows × 9 columns"
      ],
      "text/plain": [
       "<IPython.core.display.Markdown object>"
      ]
     },
     "metadata": {},
     "output_type": "display_data"
    },
    {
     "data": {
      "text/markdown": [
       "### Full path: `/mnt/d/projects/ML-100day-challenge/day-01/data/cuisines.csv`\n"
      ],
      "text/plain": [
       "<IPython.core.display.Markdown object>"
      ]
     },
     "metadata": {},
     "output_type": "display_data"
    },
    {
     "data": {
      "text/markdown": [
       "*Analysis completed in 0.19 seconds*"
      ],
      "text/plain": [
       "<IPython.core.display.Markdown object>"
      ]
     },
     "metadata": {},
     "output_type": "display_data"
    }
   ],
   "source": [
    "cuisines_df = quick_view('day-01/data/cuisines.csv', \n",
    "                sample_rows=3, \n",
    "                show_unique=3, \n",
    "                show_stats=True)"
   ]
  },
  {
   "cell_type": "markdown",
   "id": "c59568e1",
   "metadata": {},
   "source": [
    "### Data Cleaning and Preparation: Cuisines Dataset\n",
    "\n",
    "To prepare the `cuisines_df` for analysis, we will perform the following cleaning and feature engineering steps:\n",
    "\n",
    "1.  **Drop Unnecessary Columns**: Remove the `image_url` column as it is not required for this analysis.\n",
    "2.  **Handle Missing Values**: Remove rows where the `course` is not specified, as this is a key categorical feature for potential modeling.\n",
    "3.  **Clean Ingredients Column**: The `ingredients` column contains a block of text. We will process it to create a standardized, semi-colon separated list of ingredients. This makes it easier to parse and analyze individual ingredients.\n",
    "4.  **Feature Engineering**: Create a new feature, `n_ingredients`, which counts the number of ingredients in each recipe. This could be a useful feature for understanding recipe complexity."
   ]
  },
  {
   "cell_type": "code",
   "execution_count": 17,
   "id": "2b32183c",
   "metadata": {},
   "outputs": [
    {
     "data": {
      "text/markdown": [
       "### Cleaned Cuisines DataFrame"
      ],
      "text/plain": [
       "<IPython.core.display.Markdown object>"
      ]
     },
     "metadata": {},
     "output_type": "display_data"
    },
    {
     "data": {
      "text/html": [
       "<div>\n",
       "<style scoped>\n",
       "    .dataframe tbody tr th:only-of-type {\n",
       "        vertical-align: middle;\n",
       "    }\n",
       "\n",
       "    .dataframe tbody tr th {\n",
       "        vertical-align: top;\n",
       "    }\n",
       "\n",
       "    .dataframe thead th {\n",
       "        text-align: right;\n",
       "    }\n",
       "</style>\n",
       "<table border=\"1\" class=\"dataframe\">\n",
       "  <thead>\n",
       "    <tr style=\"text-align: right;\">\n",
       "      <th></th>\n",
       "      <th>name</th>\n",
       "      <th>description</th>\n",
       "      <th>cuisine</th>\n",
       "      <th>course</th>\n",
       "      <th>diet</th>\n",
       "      <th>prep_time</th>\n",
       "      <th>ingredients</th>\n",
       "      <th>instructions</th>\n",
       "      <th>n_ingredients</th>\n",
       "    </tr>\n",
       "  </thead>\n",
       "  <tbody>\n",
       "    <tr>\n",
       "      <th>0</th>\n",
       "      <td>Doddapatre Soppina Chitranna Recipe (Spiced In...</td>\n",
       "      <td>Doddapatre Soppina Chitranna (Indian Thyme Ric...</td>\n",
       "      <td>South Indian Recipes</td>\n",
       "      <td>Lunch</td>\n",
       "      <td>Vegetarian</td>\n",
       "      <td>Total in 50 M</td>\n",
       "      <td>1-1/2 cups Cooked rice; 2 tablespoons Oil; 10 ...</td>\n",
       "      <td>To start preparing Doddapatre Soppina Chitrann...</td>\n",
       "      <td>22</td>\n",
       "    </tr>\n",
       "    <tr>\n",
       "      <th>1</th>\n",
       "      <td>Goan Style Mushroom Vindaloo Recipe</td>\n",
       "      <td>Goan Style Mushroom Vindaloo Recipe is a varia...</td>\n",
       "      <td>Goan Recipes</td>\n",
       "      <td>Dinner</td>\n",
       "      <td>Vegetarian</td>\n",
       "      <td>Total in 50 M</td>\n",
       "      <td>250 grams Button mushrooms; cut into quarters;...</td>\n",
       "      <td>To begin making the Goan Style Mushroom Vindal...</td>\n",
       "      <td>18</td>\n",
       "    </tr>\n",
       "    <tr>\n",
       "      <th>2</th>\n",
       "      <td>Assamese Style Walking Catfish In Curry Leaf G...</td>\n",
       "      <td>Assamese Style Walking Catfish In Curry Leaf G...</td>\n",
       "      <td>Assamese</td>\n",
       "      <td>Side Dish</td>\n",
       "      <td>Non Vegeterian</td>\n",
       "      <td>Total in 40 M</td>\n",
       "      <td>5 Walking Catfish; thoroughly cleaned; 4 clove...</td>\n",
       "      <td>To begin making Assamese Style Walking Catfish...</td>\n",
       "      <td>14</td>\n",
       "    </tr>\n",
       "    <tr>\n",
       "      <th>3</th>\n",
       "      <td>Nutty Aloo Paratha Recipe</td>\n",
       "      <td>Nutty Aloo Paratha Recipe is a wonderful twist...</td>\n",
       "      <td>North Indian Recipes</td>\n",
       "      <td>North Indian Breakfast</td>\n",
       "      <td>Vegetarian</td>\n",
       "      <td>Total in 55 M</td>\n",
       "      <td>1 cup Whole Wheat Flour; 1 cup Spinach Leaves ...</td>\n",
       "      <td>To begin making Nutty Aloo Paratha Recipe,firs...</td>\n",
       "      <td>22</td>\n",
       "    </tr>\n",
       "    <tr>\n",
       "      <th>4</th>\n",
       "      <td>Phulka Recipe (Roti/Chapati) - Puffed Indian B...</td>\n",
       "      <td>Phulkas also known as Roti or Chapati in some ...</td>\n",
       "      <td>North Indian Recipes</td>\n",
       "      <td>Main Course</td>\n",
       "      <td>Vegetarian</td>\n",
       "      <td>Total in 40 M</td>\n",
       "      <td>1 cup Whole Wheat Flour; 1/2 teaspoon Salt; op...</td>\n",
       "      <td>To begin making the Phulka (roti/ chapati) rec...</td>\n",
       "      <td>6</td>\n",
       "    </tr>\n",
       "  </tbody>\n",
       "</table>\n",
       "</div>"
      ],
      "text/plain": [
       "                                                name  \\\n",
       "0  Doddapatre Soppina Chitranna Recipe (Spiced In...   \n",
       "1                Goan Style Mushroom Vindaloo Recipe   \n",
       "2  Assamese Style Walking Catfish In Curry Leaf G...   \n",
       "3                          Nutty Aloo Paratha Recipe   \n",
       "4  Phulka Recipe (Roti/Chapati) - Puffed Indian B...   \n",
       "\n",
       "                                         description               cuisine  \\\n",
       "0  Doddapatre Soppina Chitranna (Indian Thyme Ric...  South Indian Recipes   \n",
       "1  Goan Style Mushroom Vindaloo Recipe is a varia...          Goan Recipes   \n",
       "2  Assamese Style Walking Catfish In Curry Leaf G...              Assamese   \n",
       "3  Nutty Aloo Paratha Recipe is a wonderful twist...  North Indian Recipes   \n",
       "4  Phulkas also known as Roti or Chapati in some ...  North Indian Recipes   \n",
       "\n",
       "                   course            diet      prep_time  \\\n",
       "0                   Lunch      Vegetarian  Total in 50 M   \n",
       "1                  Dinner      Vegetarian  Total in 50 M   \n",
       "2               Side Dish  Non Vegeterian  Total in 40 M   \n",
       "3  North Indian Breakfast      Vegetarian  Total in 55 M   \n",
       "4             Main Course      Vegetarian  Total in 40 M   \n",
       "\n",
       "                                         ingredients  \\\n",
       "0  1-1/2 cups Cooked rice; 2 tablespoons Oil; 10 ...   \n",
       "1  250 grams Button mushrooms; cut into quarters;...   \n",
       "2  5 Walking Catfish; thoroughly cleaned; 4 clove...   \n",
       "3  1 cup Whole Wheat Flour; 1 cup Spinach Leaves ...   \n",
       "4  1 cup Whole Wheat Flour; 1/2 teaspoon Salt; op...   \n",
       "\n",
       "                                        instructions  n_ingredients  \n",
       "0  To start preparing Doddapatre Soppina Chitrann...             22  \n",
       "1  To begin making the Goan Style Mushroom Vindal...             18  \n",
       "2  To begin making Assamese Style Walking Catfish...             14  \n",
       "3  To begin making Nutty Aloo Paratha Recipe,firs...             22  \n",
       "4  To begin making the Phulka (roti/ chapati) rec...              6  "
      ]
     },
     "metadata": {},
     "output_type": "display_data"
    },
    {
     "data": {
      "text/markdown": [
       "#### Sample of cleaned ingredients and their counts:"
      ],
      "text/plain": [
       "<IPython.core.display.Markdown object>"
      ]
     },
     "metadata": {},
     "output_type": "display_data"
    },
    {
     "data": {
      "text/html": [
       "<div>\n",
       "<style scoped>\n",
       "    .dataframe tbody tr th:only-of-type {\n",
       "        vertical-align: middle;\n",
       "    }\n",
       "\n",
       "    .dataframe tbody tr th {\n",
       "        vertical-align: top;\n",
       "    }\n",
       "\n",
       "    .dataframe thead th {\n",
       "        text-align: right;\n",
       "    }\n",
       "</style>\n",
       "<table border=\"1\" class=\"dataframe\">\n",
       "  <thead>\n",
       "    <tr style=\"text-align: right;\">\n",
       "      <th></th>\n",
       "      <th>ingredients</th>\n",
       "      <th>n_ingredients</th>\n",
       "    </tr>\n",
       "  </thead>\n",
       "  <tbody>\n",
       "    <tr>\n",
       "      <th>9</th>\n",
       "      <td>Oil; as required; 1 cup Fresh green chickpeas;...</td>\n",
       "      <td>22</td>\n",
       "    </tr>\n",
       "    <tr>\n",
       "      <th>22</th>\n",
       "      <td>1/2 kg Potatoes (Aloo); boiled; 1 teaspoon Oil...</td>\n",
       "      <td>15</td>\n",
       "    </tr>\n",
       "    <tr>\n",
       "      <th>70</th>\n",
       "      <td>4 Whole Eggs; boiled; 3 Onions; paste; 1 table...</td>\n",
       "      <td>29</td>\n",
       "    </tr>\n",
       "    <tr>\n",
       "      <th>83</th>\n",
       "      <td>1 cup Khoya (Mawa); 1/2 cup Sugar; granulated;...</td>\n",
       "      <td>8</td>\n",
       "    </tr>\n",
       "    <tr>\n",
       "      <th>76</th>\n",
       "      <td>2 cups Phool Makhana (Lotus Seeds); 1/4 cup Gr...</td>\n",
       "      <td>19</td>\n",
       "    </tr>\n",
       "  </tbody>\n",
       "</table>\n",
       "</div>"
      ],
      "text/plain": [
       "                                          ingredients  n_ingredients\n",
       "9   Oil; as required; 1 cup Fresh green chickpeas;...             22\n",
       "22  1/2 kg Potatoes (Aloo); boiled; 1 teaspoon Oil...             15\n",
       "70  4 Whole Eggs; boiled; 3 Onions; paste; 1 table...             29\n",
       "83  1 cup Khoya (Mawa); 1/2 cup Sugar; granulated;...              8\n",
       "76  2 cups Phool Makhana (Lotus Seeds); 1/4 cup Gr...             19"
      ]
     },
     "metadata": {},
     "output_type": "display_data"
    }
   ],
   "source": [
    "import re\n",
    "import pandas as pd\n",
    "from IPython.display import display, Markdown\n",
    "\n",
    "def clean_ingredient_block(raw: str | float) -> str | None:\n",
    "    \"\"\"\n",
    "    1) Split on any newline / tab sequence to recover individual lines\n",
    "    2) Collapse repeated whitespace inside each line\n",
    "    3) Strip stray commas / semicolons at the ends\n",
    "    4) Join back with `; ` so one recipe sits on one line\n",
    "    \"\"\"\n",
    "    if pd.isna(raw):\n",
    "        return None\n",
    "    \n",
    "    # split\n",
    "    parts = re.split(r'[\\n\\t]+', str(raw))\n",
    "    \n",
    "    # normalise & keep non-empty\n",
    "    parts = [re.sub(r'\\s+', ' ', p).strip(' ,;') for p in parts if p.strip()]\n",
    "    \n",
    "    if not parts:\n",
    "        return None\n",
    "    \n",
    "    # join\n",
    "    return '; '.join(parts)\n",
    "\n",
    "# --- Data Cleaning Pipeline for Cuisines DataFrame ---\n",
    "\n",
    "# Create a copy to avoid SettingWithCopyWarning\n",
    "cleaned_cuisines_df = cuisines_df.copy()\n",
    "\n",
    "# 1. Drop the image_url column\n",
    "cleaned_cuisines_df.drop(columns=['image_url'], inplace=True, errors='ignore')\n",
    "\n",
    "# 2. Drop rows with missing 'course' values\n",
    "cleaned_cuisines_df.dropna(subset=['course'], inplace=True)\n",
    "\n",
    "# 3. Clean the 'ingredients' column using the function defined above\n",
    "cleaned_cuisines_df['ingredients'] = cleaned_cuisines_df['ingredients'].apply(clean_ingredient_block)\n",
    "\n",
    "# 4. Create the 'n_ingredients' feature\n",
    "# We add 1 because N semicolons separate N+1 items.\n",
    "cleaned_cuisines_df['n_ingredients'] = cleaned_cuisines_df['ingredients'].str.count(';').fillna(0).astype(int) + 1\n",
    "\n",
    "# 5. remove non english rows \n",
    "def has_non_english(text):\n",
    "        if pd.isna(text):\n",
    "            return False\n",
    "        try:\n",
    "            text.encode('ascii')\n",
    "            return False\n",
    "        except (UnicodeEncodeError, UnicodeDecodeError):\n",
    "            return True\n",
    "    \n",
    "# Check all string columns for non-English characters\n",
    "str_cols = cleaned_cuisines_df.select_dtypes(include=['object']).columns\n",
    "has_non_eng = cleaned_cuisines_df[str_cols].apply(\n",
    "    lambda col: col.astype(str).apply(has_non_english)\n",
    ").any(axis=1)\n",
    "cleaned_cuisines_df = cleaned_cuisines_df[~has_non_eng].reset_index(drop=True)\n",
    "\n",
    "\n",
    "# --- Display Results ---\n",
    "display(Markdown(\"### Cleaned Cuisines DataFrame\"))\n",
    "display(cleaned_cuisines_df.head())\n",
    "\n",
    "display(Markdown(\"#### Sample of cleaned ingredients and their counts:\"))\n",
    "display(cleaned_cuisines_df[['ingredients', 'n_ingredients']].sample(5))"
   ]
  },
  {
   "cell_type": "markdown",
   "id": "31872a4b",
   "metadata": {},
   "source": [
    "## Dataset 2: IFood Dataset Exploration\n",
    "Now let's explore the ifood_new.csv dataset which contains regional information about Indian foods."
   ]
  },
  {
   "cell_type": "code",
   "execution_count": 18,
   "id": "15343dc9",
   "metadata": {},
   "outputs": [
    {
     "data": {
      "text/markdown": [
       "*Loading file ifood_new.csv...*"
      ],
      "text/plain": [
       "<IPython.core.display.Markdown object>"
      ]
     },
     "metadata": {},
     "output_type": "display_data"
    },
    {
     "data": {
      "text/markdown": [
       "## File: `ifood_new.csv`"
      ],
      "text/plain": [
       "<IPython.core.display.Markdown object>"
      ]
     },
     "metadata": {},
     "output_type": "display_data"
    },
    {
     "data": {
      "text/markdown": [
       "### Shape: 255 rows × 10 columns"
      ],
      "text/plain": [
       "<IPython.core.display.Markdown object>"
      ]
     },
     "metadata": {},
     "output_type": "display_data"
    },
    {
     "data": {
      "text/markdown": [
       "### Full path: `/mnt/d/projects/ML-100day-challenge/day-01/data/ifood_new.csv`\n"
      ],
      "text/plain": [
       "<IPython.core.display.Markdown object>"
      ]
     },
     "metadata": {},
     "output_type": "display_data"
    },
    {
     "data": {
      "text/markdown": [
       "*Analysis completed in 0.02 seconds*"
      ],
      "text/plain": [
       "<IPython.core.display.Markdown object>"
      ]
     },
     "metadata": {},
     "output_type": "display_data"
    }
   ],
   "source": [
    "ifood_df = quick_view('day-01/data/ifood_new.csv', \n",
    "                sample_rows=3, \n",
    "                show_unique=3, \n",
    "                show_stats=True)"
   ]
  },
  {
   "cell_type": "markdown",
   "id": "dbf1c6ff",
   "metadata": {},
   "source": [
    "## Dataset 3: Indian Food Dataset Exploration\n",
    "Finally, let's examine the indian_food.csv dataset."
   ]
  },
  {
   "cell_type": "code",
   "execution_count": 19,
   "id": "46c1e622",
   "metadata": {},
   "outputs": [
    {
     "data": {
      "text/markdown": [
       "*Loading file indian_food.csv...*"
      ],
      "text/plain": [
       "<IPython.core.display.Markdown object>"
      ]
     },
     "metadata": {},
     "output_type": "display_data"
    },
    {
     "data": {
      "text/markdown": [
       "## File: `indian_food.csv`"
      ],
      "text/plain": [
       "<IPython.core.display.Markdown object>"
      ]
     },
     "metadata": {},
     "output_type": "display_data"
    },
    {
     "data": {
      "text/markdown": [
       "### Shape: 255 rows × 9 columns"
      ],
      "text/plain": [
       "<IPython.core.display.Markdown object>"
      ]
     },
     "metadata": {},
     "output_type": "display_data"
    },
    {
     "data": {
      "text/markdown": [
       "### Full path: `/mnt/d/projects/ML-100day-challenge/day-01/data/indian_food.csv`\n"
      ],
      "text/plain": [
       "<IPython.core.display.Markdown object>"
      ]
     },
     "metadata": {},
     "output_type": "display_data"
    },
    {
     "data": {
      "text/markdown": [
       "*Analysis completed in 0.01 seconds*"
      ],
      "text/plain": [
       "<IPython.core.display.Markdown object>"
      ]
     },
     "metadata": {},
     "output_type": "display_data"
    }
   ],
   "source": [
    "indian_food_df = quick_view('day-01/data/indian_food.csv', \n",
    "                sample_rows=3, \n",
    "                show_unique=3, \n",
    "                show_stats=True)"
   ]
  },
  {
   "cell_type": "markdown",
   "id": "95781b66",
   "metadata": {},
   "source": [
    "### Data Cleaning: `ifood_new.csv` and `indian_food.csv`\n",
    "\n",
    "Next, we will clean the `ifood_df` and `indian_food_df` datasets. Both datasets share a similar structure and require similar preprocessing steps. To maintain consistency and avoid code duplication, we will create a reusable function to perform the following actions:\n",
    "\n",
    "1.  **Drop Unnecessary Columns**: Remove metadata columns like `flavor_profile`, `state`, `region`, and `img_url`.\n",
    "2.  **Standardize Ingredients**: Convert the comma-separated `ingredients` string to a semicolon-separated format for consistency with our other datasets.\n",
    "3.  **Feature Engineering**: Calculate the `n_ingredients` for each recipe.\n",
    "4.  **Remove Non-English Rows**: Remove rows containing non-English characters to ensure consistent data."
   ]
  },
  {
   "cell_type": "code",
   "execution_count": 20,
   "id": "517bed1a",
   "metadata": {},
   "outputs": [
    {
     "data": {
      "text/markdown": [
       "### Cleaned iFood DataFrame"
      ],
      "text/plain": [
       "<IPython.core.display.Markdown object>"
      ]
     },
     "metadata": {},
     "output_type": "display_data"
    },
    {
     "data": {
      "text/html": [
       "<div>\n",
       "<style scoped>\n",
       "    .dataframe tbody tr th:only-of-type {\n",
       "        vertical-align: middle;\n",
       "    }\n",
       "\n",
       "    .dataframe tbody tr th {\n",
       "        vertical-align: top;\n",
       "    }\n",
       "\n",
       "    .dataframe thead th {\n",
       "        text-align: right;\n",
       "    }\n",
       "</style>\n",
       "<table border=\"1\" class=\"dataframe\">\n",
       "  <thead>\n",
       "    <tr style=\"text-align: right;\">\n",
       "      <th></th>\n",
       "      <th>name</th>\n",
       "      <th>ingredients</th>\n",
       "      <th>diet</th>\n",
       "      <th>prep_time</th>\n",
       "      <th>cook_time</th>\n",
       "      <th>course</th>\n",
       "      <th>n_ingredients</th>\n",
       "    </tr>\n",
       "  </thead>\n",
       "  <tbody>\n",
       "    <tr>\n",
       "      <th>0</th>\n",
       "      <td>Adhirasam</td>\n",
       "      <td>Rice flour;  jaggery;  ghee;  vegetable oil;  ...</td>\n",
       "      <td>vegetarian</td>\n",
       "      <td>10</td>\n",
       "      <td>50</td>\n",
       "      <td>dessert</td>\n",
       "      <td>5</td>\n",
       "    </tr>\n",
       "    <tr>\n",
       "      <th>1</th>\n",
       "      <td>Aloo gobi</td>\n",
       "      <td>Cauliflower;  potato;  garam masala;  turmeric...</td>\n",
       "      <td>vegetarian</td>\n",
       "      <td>10</td>\n",
       "      <td>20</td>\n",
       "      <td>main course</td>\n",
       "      <td>5</td>\n",
       "    </tr>\n",
       "    <tr>\n",
       "      <th>2</th>\n",
       "      <td>Aloo matar</td>\n",
       "      <td>Potato;  peas;  chillies;  ginger;  garam masa...</td>\n",
       "      <td>vegetarian</td>\n",
       "      <td>5</td>\n",
       "      <td>40</td>\n",
       "      <td>main course</td>\n",
       "      <td>6</td>\n",
       "    </tr>\n",
       "    <tr>\n",
       "      <th>3</th>\n",
       "      <td>Aloo methi</td>\n",
       "      <td>Potato;  fenugreek leaves;  chillies;  salt;  oil</td>\n",
       "      <td>vegetarian</td>\n",
       "      <td>10</td>\n",
       "      <td>40</td>\n",
       "      <td>main course</td>\n",
       "      <td>5</td>\n",
       "    </tr>\n",
       "    <tr>\n",
       "      <th>4</th>\n",
       "      <td>Aloo shimla mirch</td>\n",
       "      <td>Potato;  shimla mirch;  garam masala;  amchur ...</td>\n",
       "      <td>vegetarian</td>\n",
       "      <td>10</td>\n",
       "      <td>40</td>\n",
       "      <td>main course</td>\n",
       "      <td>5</td>\n",
       "    </tr>\n",
       "  </tbody>\n",
       "</table>\n",
       "</div>"
      ],
      "text/plain": [
       "                name                                        ingredients  \\\n",
       "0          Adhirasam  Rice flour;  jaggery;  ghee;  vegetable oil;  ...   \n",
       "1          Aloo gobi  Cauliflower;  potato;  garam masala;  turmeric...   \n",
       "2         Aloo matar  Potato;  peas;  chillies;  ginger;  garam masa...   \n",
       "3         Aloo methi  Potato;  fenugreek leaves;  chillies;  salt;  oil   \n",
       "4  Aloo shimla mirch  Potato;  shimla mirch;  garam masala;  amchur ...   \n",
       "\n",
       "         diet  prep_time  cook_time       course  n_ingredients  \n",
       "0  vegetarian         10         50      dessert              5  \n",
       "1  vegetarian         10         20  main course              5  \n",
       "2  vegetarian          5         40  main course              6  \n",
       "3  vegetarian         10         40  main course              5  \n",
       "4  vegetarian         10         40  main course              5  "
      ]
     },
     "metadata": {},
     "output_type": "display_data"
    },
    {
     "data": {
      "text/markdown": [
       "### Cleaned Indian Food DataFrame"
      ],
      "text/plain": [
       "<IPython.core.display.Markdown object>"
      ]
     },
     "metadata": {},
     "output_type": "display_data"
    },
    {
     "data": {
      "text/html": [
       "<div>\n",
       "<style scoped>\n",
       "    .dataframe tbody tr th:only-of-type {\n",
       "        vertical-align: middle;\n",
       "    }\n",
       "\n",
       "    .dataframe tbody tr th {\n",
       "        vertical-align: top;\n",
       "    }\n",
       "\n",
       "    .dataframe thead th {\n",
       "        text-align: right;\n",
       "    }\n",
       "</style>\n",
       "<table border=\"1\" class=\"dataframe\">\n",
       "  <thead>\n",
       "    <tr style=\"text-align: right;\">\n",
       "      <th></th>\n",
       "      <th>name</th>\n",
       "      <th>ingredients</th>\n",
       "      <th>diet</th>\n",
       "      <th>prep_time</th>\n",
       "      <th>cook_time</th>\n",
       "      <th>course</th>\n",
       "      <th>n_ingredients</th>\n",
       "    </tr>\n",
       "  </thead>\n",
       "  <tbody>\n",
       "    <tr>\n",
       "      <th>0</th>\n",
       "      <td>Balu shahi</td>\n",
       "      <td>Maida flour;  yogurt;  oil;  sugar</td>\n",
       "      <td>vegetarian</td>\n",
       "      <td>45</td>\n",
       "      <td>25</td>\n",
       "      <td>dessert</td>\n",
       "      <td>4</td>\n",
       "    </tr>\n",
       "    <tr>\n",
       "      <th>1</th>\n",
       "      <td>Boondi</td>\n",
       "      <td>Gram flour;  ghee;  sugar</td>\n",
       "      <td>vegetarian</td>\n",
       "      <td>80</td>\n",
       "      <td>30</td>\n",
       "      <td>dessert</td>\n",
       "      <td>3</td>\n",
       "    </tr>\n",
       "    <tr>\n",
       "      <th>2</th>\n",
       "      <td>Gajar ka halwa</td>\n",
       "      <td>Carrots;  milk;  sugar;  ghee;  cashews;  raisins</td>\n",
       "      <td>vegetarian</td>\n",
       "      <td>15</td>\n",
       "      <td>60</td>\n",
       "      <td>dessert</td>\n",
       "      <td>6</td>\n",
       "    </tr>\n",
       "    <tr>\n",
       "      <th>3</th>\n",
       "      <td>Ghevar</td>\n",
       "      <td>Flour;  ghee;  kewra;  milk;  clarified butter...</td>\n",
       "      <td>vegetarian</td>\n",
       "      <td>15</td>\n",
       "      <td>30</td>\n",
       "      <td>dessert</td>\n",
       "      <td>10</td>\n",
       "    </tr>\n",
       "    <tr>\n",
       "      <th>4</th>\n",
       "      <td>Gulab jamun</td>\n",
       "      <td>Milk powder;  plain flour;  baking powder;  gh...</td>\n",
       "      <td>vegetarian</td>\n",
       "      <td>15</td>\n",
       "      <td>40</td>\n",
       "      <td>dessert</td>\n",
       "      <td>8</td>\n",
       "    </tr>\n",
       "  </tbody>\n",
       "</table>\n",
       "</div>"
      ],
      "text/plain": [
       "             name                                        ingredients  \\\n",
       "0      Balu shahi                 Maida flour;  yogurt;  oil;  sugar   \n",
       "1          Boondi                          Gram flour;  ghee;  sugar   \n",
       "2  Gajar ka halwa  Carrots;  milk;  sugar;  ghee;  cashews;  raisins   \n",
       "3          Ghevar  Flour;  ghee;  kewra;  milk;  clarified butter...   \n",
       "4     Gulab jamun  Milk powder;  plain flour;  baking powder;  gh...   \n",
       "\n",
       "         diet  prep_time  cook_time   course  n_ingredients  \n",
       "0  vegetarian         45         25  dessert              4  \n",
       "1  vegetarian         80         30  dessert              3  \n",
       "2  vegetarian         15         60  dessert              6  \n",
       "3  vegetarian         15         30  dessert             10  \n",
       "4  vegetarian         15         40  dessert              8  "
      ]
     },
     "metadata": {},
     "output_type": "display_data"
    }
   ],
   "source": [
    "import pandas as pd\n",
    "from IPython.display import display, Markdown\n",
    "\n",
    "def process_simple_food_df(df: pd.DataFrame, name: str) -> pd.DataFrame:\n",
    "    \"\"\"\n",
    "    Cleans and processes simple food DataFrames by dropping columns,\n",
    "    standardizing ingredients, and adding an ingredient count.\n",
    "    \"\"\"\n",
    "    if df is None:\n",
    "        display(Markdown(f\"Skipping processing for {name} as DataFrame is not loaded.\"))\n",
    "        return None\n",
    "\n",
    "    cleaned_df = df.copy()\n",
    "    \n",
    "    # 1. Drop unnecessary columns if they exist\n",
    "    cols_to_drop = ['flavor_profile', 'state', 'region', 'img_url']\n",
    "    cleaned_df.drop(columns=cols_to_drop, inplace=True, errors='ignore')\n",
    "    \n",
    "    # 2. Standardize the ingredients column\n",
    "    if 'ingredients' in cleaned_df.columns:\n",
    "        # Ensure ingredients are strings before replacing\n",
    "        cleaned_df['ingredients'] = cleaned_df['ingredients'].astype(str).str.replace(',', '; ', regex=False).str.strip()\n",
    "    \n",
    "    # 3. Add n_ingredients column\n",
    "    if 'ingredients' in cleaned_df.columns:\n",
    "        cleaned_df['n_ingredients'] = cleaned_df['ingredients'].str.split(';').str.len()\n",
    "    \n",
    "    display(Markdown(f\"### Cleaned {name} DataFrame\"))\n",
    "    display(cleaned_df.head())\n",
    "\n",
    "    # 4. remove non english rows \n",
    "    def has_non_english(text):\n",
    "        if pd.isna(text):\n",
    "            return False\n",
    "        try:\n",
    "            text.encode('ascii')\n",
    "            return False\n",
    "        except (UnicodeEncodeError, UnicodeDecodeError):\n",
    "            return True\n",
    "    \n",
    "    # Check all string columns for non-English characters\n",
    "    str_cols = cleaned_df.select_dtypes(include=['object']).columns\n",
    "    has_non_eng = cleaned_df[str_cols].apply(\n",
    "        lambda col: col.astype(str).apply(has_non_english)\n",
    "    ).any(axis=1)\n",
    "    cleaned_df = cleaned_df[~has_non_eng].reset_index(drop=True)\n",
    "    \n",
    "    return cleaned_df\n",
    "\n",
    "# --- Process ifood_df ---\n",
    "cleaned_ifood_df = process_simple_food_df(ifood_df, \"iFood\")\n",
    "\n",
    "# --- Process indian_food_df ---\n",
    "cleaned_indian_food_df = process_simple_food_df(indian_food_df, \"Indian Food\")\n",
    "\n"
   ]
  },
  {
   "cell_type": "markdown",
   "id": "2566946e",
   "metadata": {},
   "source": [
    "## Dataset 4: Indian Food Dataset Exploration\n",
    "Finally examine the structure and content of the indianFoodDatasetCSV.csv dataset."
   ]
  },
  {
   "cell_type": "code",
   "execution_count": 21,
   "id": "62cfc352",
   "metadata": {},
   "outputs": [
    {
     "data": {
      "text/markdown": [
       "*Loading file indianFoodDatasetCSV.csv...*"
      ],
      "text/plain": [
       "<IPython.core.display.Markdown object>"
      ]
     },
     "metadata": {},
     "output_type": "display_data"
    },
    {
     "data": {
      "text/markdown": [
       "## File: `indianFoodDatasetCSV.csv`"
      ],
      "text/plain": [
       "<IPython.core.display.Markdown object>"
      ]
     },
     "metadata": {},
     "output_type": "display_data"
    },
    {
     "data": {
      "text/markdown": [
       "### Shape: 6,871 rows × 15 columns"
      ],
      "text/plain": [
       "<IPython.core.display.Markdown object>"
      ]
     },
     "metadata": {},
     "output_type": "display_data"
    },
    {
     "data": {
      "text/markdown": [
       "### Full path: `/mnt/d/projects/ML-100day-challenge/day-01/data/indianFoodDatasetCSV.csv`\n"
      ],
      "text/plain": [
       "<IPython.core.display.Markdown object>"
      ]
     },
     "metadata": {},
     "output_type": "display_data"
    },
    {
     "data": {
      "text/markdown": [
       "*Analysis completed in 0.39 seconds*"
      ],
      "text/plain": [
       "<IPython.core.display.Markdown object>"
      ]
     },
     "metadata": {},
     "output_type": "display_data"
    }
   ],
   "source": [
    "indian_food_dataset_df = quick_view('day-01/data/indianFoodDatasetCSV.csv', \n",
    "                sample_rows=3, \n",
    "                show_unique=3, \n",
    "                show_stats=True)"
   ]
  },
  {
   "cell_type": "markdown",
   "id": "f751ca72",
   "metadata": {},
   "source": [
    "### Data Cleaning: `indianFoodDatasetCSV.csv`\n",
    "\n",
    "The final dataset, `indianFoodDatasetCSV.csv`, is the most detailed. It requires a few specific cleaning steps to standardize it with the others and prepare it for analysis.\n",
    "\n",
    "Our plan is as follows:\n",
    "\n",
    "1.  **Rename Columns**: The column names are long and contain \"Translated\". We will rename them to be shorter and more intuitive (e.g., `TranslatedRecipeName` to `name`).\n",
    "2.  **Clean Text Columns**: We will clean the `ingredients` and `instructions` columns by removing extra whitespace and standardizing the format.\n",
    "3.  **Feature Engineering**: As before, we will create the `n_ingredients` feature to count the number of ingredients."
   ]
  },
  {
   "cell_type": "code",
   "execution_count": 22,
   "id": "fedb6612",
   "metadata": {},
   "outputs": [
    {
     "data": {
      "text/markdown": [
       "### Cleaned Indian Food Dataset DataFrame"
      ],
      "text/plain": [
       "<IPython.core.display.Markdown object>"
      ]
     },
     "metadata": {},
     "output_type": "display_data"
    },
    {
     "data": {
      "text/html": [
       "<div>\n",
       "<style scoped>\n",
       "    .dataframe tbody tr th:only-of-type {\n",
       "        vertical-align: middle;\n",
       "    }\n",
       "\n",
       "    .dataframe tbody tr th {\n",
       "        vertical-align: top;\n",
       "    }\n",
       "\n",
       "    .dataframe thead th {\n",
       "        text-align: right;\n",
       "    }\n",
       "</style>\n",
       "<table border=\"1\" class=\"dataframe\">\n",
       "  <thead>\n",
       "    <tr style=\"text-align: right;\">\n",
       "      <th></th>\n",
       "      <th>Srno</th>\n",
       "      <th>name</th>\n",
       "      <th>ingredients</th>\n",
       "      <th>prep_time</th>\n",
       "      <th>cook_time</th>\n",
       "      <th>total_time</th>\n",
       "      <th>cuisine</th>\n",
       "      <th>course</th>\n",
       "      <th>diet</th>\n",
       "      <th>instructions</th>\n",
       "      <th>n_ingredients</th>\n",
       "    </tr>\n",
       "  </thead>\n",
       "  <tbody>\n",
       "    <tr>\n",
       "      <th>0</th>\n",
       "      <td>1</td>\n",
       "      <td>Masala Karela Recipe</td>\n",
       "      <td>6 Karela (Bi; er Gourd/ Pavakkai) - deseeded,S...</td>\n",
       "      <td>15</td>\n",
       "      <td>30</td>\n",
       "      <td>45</td>\n",
       "      <td>Indian</td>\n",
       "      <td>Side Dish</td>\n",
       "      <td>Diabetic Friendly</td>\n",
       "      <td>To begi; maki; g; he Masala Karela Recipe,de-s...</td>\n",
       "      <td>28</td>\n",
       "    </tr>\n",
       "    <tr>\n",
       "      <th>1</th>\n",
       "      <td>2</td>\n",
       "      <td>Spicy Tomato Rice (Recipe)</td>\n",
       "      <td>2-1 / 2 cups rice - cooked, 3; oma; oes, 3; ea...</td>\n",
       "      <td>5</td>\n",
       "      <td>10</td>\n",
       "      <td>15</td>\n",
       "      <td>South Indian Recipes</td>\n",
       "      <td>Main Course</td>\n",
       "      <td>Vegetarian</td>\n",
       "      <td>To make; oma; o puliogere, firs; cu; he; oma; ...</td>\n",
       "      <td>30</td>\n",
       "    </tr>\n",
       "    <tr>\n",
       "      <th>2</th>\n",
       "      <td>3</td>\n",
       "      <td>Ragi Semiya Upma Recipe - Ragi Millet Vermicel...</td>\n",
       "      <td>1-1/2 cups Rice Vermicelli Noodles (Thi; ),1 O...</td>\n",
       "      <td>20</td>\n",
       "      <td>30</td>\n",
       "      <td>50</td>\n",
       "      <td>South Indian Recipes</td>\n",
       "      <td>South Indian Breakfast</td>\n",
       "      <td>High Protein Vegetarian</td>\n",
       "      <td>To begi; maki; g; he Ragi Vermicelli Recipe, f...</td>\n",
       "      <td>28</td>\n",
       "    </tr>\n",
       "    <tr>\n",
       "      <th>3</th>\n",
       "      <td>4</td>\n",
       "      <td>Gongura Chicken Curry Recipe - Andhra Style Go...</td>\n",
       "      <td>500 grams Chicke; 2 O; io; - chopped,1 Toma; o...</td>\n",
       "      <td>15</td>\n",
       "      <td>30</td>\n",
       "      <td>45</td>\n",
       "      <td>Andhra</td>\n",
       "      <td>Lunch</td>\n",
       "      <td>Non Vegeterian</td>\n",
       "      <td>To begi; maki; g Go; gura Chicke; Curry Recipe...</td>\n",
       "      <td>43</td>\n",
       "    </tr>\n",
       "    <tr>\n",
       "      <th>4</th>\n",
       "      <td>5</td>\n",
       "      <td>Andhra Style Alam Pachadi Recipe - Adrak Chutn...</td>\n",
       "      <td>1; ablespoo; cha; a dal, 1; ablespoo; whi; e u...</td>\n",
       "      <td>10</td>\n",
       "      <td>20</td>\n",
       "      <td>30</td>\n",
       "      <td>Andhra</td>\n",
       "      <td>South Indian Breakfast</td>\n",
       "      <td>Vegetarian</td>\n",
       "      <td>To make A; dhra S; yle Alam Pachadi, firs; hea...</td>\n",
       "      <td>23</td>\n",
       "    </tr>\n",
       "  </tbody>\n",
       "</table>\n",
       "</div>"
      ],
      "text/plain": [
       "   Srno                                               name  \\\n",
       "0     1                               Masala Karela Recipe   \n",
       "1     2                         Spicy Tomato Rice (Recipe)   \n",
       "2     3  Ragi Semiya Upma Recipe - Ragi Millet Vermicel...   \n",
       "3     4  Gongura Chicken Curry Recipe - Andhra Style Go...   \n",
       "4     5  Andhra Style Alam Pachadi Recipe - Adrak Chutn...   \n",
       "\n",
       "                                         ingredients  prep_time  cook_time  \\\n",
       "0  6 Karela (Bi; er Gourd/ Pavakkai) - deseeded,S...         15         30   \n",
       "1  2-1 / 2 cups rice - cooked, 3; oma; oes, 3; ea...          5         10   \n",
       "2  1-1/2 cups Rice Vermicelli Noodles (Thi; ),1 O...         20         30   \n",
       "3  500 grams Chicke; 2 O; io; - chopped,1 Toma; o...         15         30   \n",
       "4  1; ablespoo; cha; a dal, 1; ablespoo; whi; e u...         10         20   \n",
       "\n",
       "   total_time               cuisine                  course  \\\n",
       "0          45                Indian               Side Dish   \n",
       "1          15  South Indian Recipes             Main Course   \n",
       "2          50  South Indian Recipes  South Indian Breakfast   \n",
       "3          45                Andhra                   Lunch   \n",
       "4          30                Andhra  South Indian Breakfast   \n",
       "\n",
       "                      diet                                       instructions  \\\n",
       "0        Diabetic Friendly  To begi; maki; g; he Masala Karela Recipe,de-s...   \n",
       "1               Vegetarian  To make; oma; o puliogere, firs; cu; he; oma; ...   \n",
       "2  High Protein Vegetarian  To begi; maki; g; he Ragi Vermicelli Recipe, f...   \n",
       "3           Non Vegeterian  To begi; maki; g Go; gura Chicke; Curry Recipe...   \n",
       "4               Vegetarian  To make A; dhra S; yle Alam Pachadi, firs; hea...   \n",
       "\n",
       "   n_ingredients  \n",
       "0             28  \n",
       "1             30  \n",
       "2             28  \n",
       "3             43  \n",
       "4             23  "
      ]
     },
     "metadata": {},
     "output_type": "display_data"
    }
   ],
   "source": [
    "import pandas as pd\n",
    "import re\n",
    "from IPython.display import display, Markdown\n",
    "\n",
    "def clean_and_process_recipe_df(df: pd.DataFrame, name: str) -> pd.DataFrame:\n",
    "    \"\"\"\n",
    "    Cleans and processes a detailed recipe DataFrame by renaming columns,\n",
    "    cleaning text fields, and adding new features.\n",
    "    \"\"\"\n",
    "    if df is None:\n",
    "        display(Markdown(f\"Skipping processing for {name} as DataFrame is not loaded.\"))\n",
    "        return None\n",
    "\n",
    "    cleaned_df = df.copy()\n",
    "\n",
    "\n",
    "\n",
    "    # 1. Rename columns for clarity and consistency\n",
    "    column_mapping = {\n",
    "        'TranslatedRecipeName': 'name',\n",
    "        'TranslatedIngredients': 'ingredients',\n",
    "        'TranslatedInstructions': 'instructions',\n",
    "        'PrepTimeInMins': 'prep_time',\n",
    "        'CookTimeInMins': 'cook_time',\n",
    "        'TotalTimeInMins': 'total_time',\n",
    "        'Cuisine': 'cuisine',\n",
    "        'Course': 'course',\n",
    "        'Diet': 'diet',\n",
    "    }\n",
    "    \n",
    "    # Filter mapping to only include columns present in the DataFrame\n",
    "    rename_map = {k: v for k, v in column_mapping.items() if k in cleaned_df.columns}\n",
    "    cleaned_df.rename(columns=rename_map, inplace=True)\n",
    "\n",
    "    # drop rows \n",
    "    cleaned_df.drop(columns=['RecipeName', 'Ingredients', 'Servings', 'Instructions', 'URL'], inplace=True)\n",
    "\n",
    "    # 2. Clean text columns (ingredients and instructions)\n",
    "    def clean_text_block(raw: str | float) -> str | None:\n",
    "        if pd.isna(raw):\n",
    "            return None\n",
    "        parts = re.split(r'[\\\\n\\\\t]+', str(raw))\n",
    "        parts = [re.sub(r'\\\\s+', ' ', p).strip(' ,;') for p in parts if p.strip()]\n",
    "        return '; '.join(parts) if parts else None\n",
    "\n",
    "    if 'ingredients' in cleaned_df.columns:\n",
    "        cleaned_df['ingredients'] = cleaned_df['ingredients'].apply(clean_text_block)\n",
    "    if 'instructions' in cleaned_df.columns:\n",
    "        cleaned_df['instructions'] = cleaned_df['instructions'].apply(clean_text_block)\n",
    "\n",
    "    # 3. Create the 'n_ingredients' feature\n",
    "    if 'ingredients' in cleaned_df.columns:\n",
    "        cleaned_df['n_ingredients'] = cleaned_df['ingredients'].str.count(';').fillna(0).astype(int) + 1\n",
    "\n",
    "    display(Markdown(f\"### Cleaned {name} DataFrame\"))\n",
    "    display(cleaned_df.head())\n",
    "    \n",
    "    return cleaned_df\n",
    "\n",
    "# --- Process indian_food_dataset_df ---\n",
    "cleaned_indian_food_dataset_df = clean_and_process_recipe_df(indian_food_dataset_df, \"Indian Food Dataset\")"
   ]
  },
  {
   "cell_type": "markdown",
   "id": "8f29a742",
   "metadata": {},
   "source": [
    "## Summary and Next Steps\n",
    "\n",
    "In this notebook, we successfully explored, cleaned, and prepared four different datasets on Indian food recipes.\n",
    "\n",
    "### Key Accomplishments:\n",
    "- **Standardized Data**: We created consistent column names and formats across all datasets.\n",
    "- **Cleaned Text**: Ingredients and instructions were processed into a clean, machine-readable format.\n",
    "- **Feature Engineering**: A new `n_ingredients` feature was created to quantify recipe complexity.\n",
    "- **Modular Code**: The cleaning logic was refactored into reusable functions, making the notebook more organized and efficient.\n",
    "\n",
    "### Next Steps:\n",
    "With the data now cleaned and prepared, several exciting possibilities are available for future analysis:\n",
    "- **Merge Datasets**: Combine the cleaned dataframes into a single, comprehensive master dataset of Indian recipes.\n",
    "- **Exploratory Data Analysis (EDA)**: Perform in-depth analysis to uncover patterns, such as the most common ingredients or the distribution of vegetarian vs. non-vegetarian dishes.\n",
    "- **Machine Learning**: Build a model to predict a recipe's cuisine or course based on its ingredients.\n",
    "- **Recommendation System**: Develop a system to recommend recipes to users based on their preferences."
   ]
  },
  {
   "cell_type": "markdown",
   "id": "9b0272ae",
   "metadata": {},
   "source": [
    "#### Just explore the datasets columns"
   ]
  },
  {
   "cell_type": "code",
   "execution_count": 23,
   "id": "fed77dc9",
   "metadata": {},
   "outputs": [
    {
     "name": "stdout",
     "output_type": "stream",
     "text": [
      "Index(['name', 'description', 'cuisine', 'course', 'diet', 'prep_time',\n",
      "       'ingredients', 'instructions', 'n_ingredients'],\n",
      "      dtype='object')\n",
      "Index(['name', 'ingredients', 'diet', 'prep_time', 'cook_time', 'course',\n",
      "       'n_ingredients'],\n",
      "      dtype='object')\n",
      "Index(['name', 'ingredients', 'diet', 'prep_time', 'cook_time', 'course',\n",
      "       'n_ingredients'],\n",
      "      dtype='object')\n",
      "Index(['Srno', 'name', 'ingredients', 'prep_time', 'cook_time', 'total_time',\n",
      "       'cuisine', 'course', 'diet', 'instructions', 'n_ingredients'],\n",
      "      dtype='object')\n"
     ]
    }
   ],
   "source": [
    "print(cleaned_cuisines_df.columns)\n",
    "print(cleaned_ifood_df.columns)\n",
    "print(cleaned_indian_food_df.columns)\n",
    "print(cleaned_indian_food_dataset_df.columns)\n"
   ]
  },
  {
   "cell_type": "code",
   "execution_count": null,
   "id": "870d217b",
   "metadata": {},
   "outputs": [],
   "source": []
  }
 ],
 "metadata": {
  "kernelspec": {
   "display_name": "Python 3 (ipykernel)",
   "language": "python",
   "name": "python3"
  },
  "language_info": {
   "codemirror_mode": {
    "name": "ipython",
    "version": 3
   },
   "file_extension": ".py",
   "mimetype": "text/x-python",
   "name": "python",
   "nbconvert_exporter": "python",
   "pygments_lexer": "ipython3",
   "version": "3.12.11"
  }
 },
 "nbformat": 4,
 "nbformat_minor": 5
}
